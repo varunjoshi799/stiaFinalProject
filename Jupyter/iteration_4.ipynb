{
 "cells": [
  {
   "cell_type": "code",
   "execution_count": 1,
   "id": "a5e71a3a",
   "metadata": {},
   "outputs": [
    {
     "data": {
      "text/html": [
       "<div>\n",
       "<style scoped>\n",
       "    .dataframe tbody tr th:only-of-type {\n",
       "        vertical-align: middle;\n",
       "    }\n",
       "\n",
       "    .dataframe tbody tr th {\n",
       "        vertical-align: top;\n",
       "    }\n",
       "\n",
       "    .dataframe thead th {\n",
       "        text-align: right;\n",
       "    }\n",
       "</style>\n",
       "<table border=\"1\" class=\"dataframe\">\n",
       "  <thead>\n",
       "    <tr style=\"text-align: right;\">\n",
       "      <th></th>\n",
       "      <th>Iteration</th>\n",
       "      <th>Region</th>\n",
       "      <th>No-Region</th>\n",
       "      <th>Description</th>\n",
       "    </tr>\n",
       "  </thead>\n",
       "  <tbody>\n",
       "    <tr>\n",
       "      <th>0</th>\n",
       "      <td>5.0</td>\n",
       "      <td>Africa</td>\n",
       "      <td>NaN</td>\n",
       "      <td>exam caus consequ forc migrat focus particular...</td>\n",
       "    </tr>\n",
       "    <tr>\n",
       "      <th>1</th>\n",
       "      <td>NaN</td>\n",
       "      <td>Africa</td>\n",
       "      <td>NaN</td>\n",
       "      <td>it underli aim familiar recent trend histor sc...</td>\n",
       "    </tr>\n",
       "    <tr>\n",
       "      <th>2</th>\n",
       "      <td>NaN</td>\n",
       "      <td>Africa</td>\n",
       "      <td>NaN</td>\n",
       "      <td>take look polit  len fiction film our discuss...</td>\n",
       "    </tr>\n",
       "    <tr>\n",
       "      <th>3</th>\n",
       "      <td>NaN</td>\n",
       "      <td>Africa</td>\n",
       "      <td>NaN</td>\n",
       "      <td>what  how  written how  written these fundamen...</td>\n",
       "    </tr>\n",
       "    <tr>\n",
       "      <th>4</th>\n",
       "      <td>NaN</td>\n",
       "      <td>Africa</td>\n",
       "      <td>NaN</td>\n",
       "      <td>there recent resurg inter-st cooper  secur eco...</td>\n",
       "    </tr>\n",
       "  </tbody>\n",
       "</table>\n",
       "</div>"
      ],
      "text/plain": [
       "   Iteration  Region  No-Region  \\\n",
       "0        5.0  Africa        NaN   \n",
       "1        NaN  Africa        NaN   \n",
       "2        NaN  Africa        NaN   \n",
       "3        NaN  Africa        NaN   \n",
       "4        NaN  Africa        NaN   \n",
       "\n",
       "                                         Description  \n",
       "0  exam caus consequ forc migrat focus particular...  \n",
       "1  it underli aim familiar recent trend histor sc...  \n",
       "2   take look polit  len fiction film our discuss...  \n",
       "3  what  how  written how  written these fundamen...  \n",
       "4  there recent resurg inter-st cooper  secur eco...  "
      ]
     },
     "execution_count": 1,
     "metadata": {},
     "output_type": "execute_result"
    }
   ],
   "source": [
    "import pandas as pd\n",
    "df = pd.read_csv('/Users/varunjoshi/Documents/Python/STIA_458/stiaFinalProject/test_set.csv')\n",
    "df.head()"
   ]
  },
  {
   "cell_type": "code",
   "execution_count": 2,
   "id": "3892cbfa",
   "metadata": {
    "scrolled": true
   },
   "outputs": [
    {
     "data": {
      "text/html": [
       "<div>\n",
       "<style scoped>\n",
       "    .dataframe tbody tr th:only-of-type {\n",
       "        vertical-align: middle;\n",
       "    }\n",
       "\n",
       "    .dataframe tbody tr th {\n",
       "        vertical-align: top;\n",
       "    }\n",
       "\n",
       "    .dataframe thead th {\n",
       "        text-align: right;\n",
       "    }\n",
       "</style>\n",
       "<table border=\"1\" class=\"dataframe\">\n",
       "  <thead>\n",
       "    <tr style=\"text-align: right;\">\n",
       "      <th></th>\n",
       "      <th>Region</th>\n",
       "      <th>Description</th>\n",
       "      <th>category_id</th>\n",
       "    </tr>\n",
       "  </thead>\n",
       "  <tbody>\n",
       "    <tr>\n",
       "      <th>0</th>\n",
       "      <td>Africa</td>\n",
       "      <td>exam caus consequ forc migrat focus particular...</td>\n",
       "      <td>0</td>\n",
       "    </tr>\n",
       "    <tr>\n",
       "      <th>1</th>\n",
       "      <td>Africa</td>\n",
       "      <td>it underli aim familiar recent trend histor sc...</td>\n",
       "      <td>0</td>\n",
       "    </tr>\n",
       "    <tr>\n",
       "      <th>2</th>\n",
       "      <td>Africa</td>\n",
       "      <td>take look polit  len fiction film our discuss...</td>\n",
       "      <td>0</td>\n",
       "    </tr>\n",
       "    <tr>\n",
       "      <th>3</th>\n",
       "      <td>Africa</td>\n",
       "      <td>what  how  written how  written these fundamen...</td>\n",
       "      <td>0</td>\n",
       "    </tr>\n",
       "    <tr>\n",
       "      <th>4</th>\n",
       "      <td>Africa</td>\n",
       "      <td>there recent resurg inter-st cooper  secur eco...</td>\n",
       "      <td>0</td>\n",
       "    </tr>\n",
       "  </tbody>\n",
       "</table>\n",
       "</div>"
      ],
      "text/plain": [
       "   Region                                        Description  category_id\n",
       "0  Africa  exam caus consequ forc migrat focus particular...            0\n",
       "1  Africa  it underli aim familiar recent trend histor sc...            0\n",
       "2  Africa   take look polit  len fiction film our discuss...            0\n",
       "3  Africa  what  how  written how  written these fundamen...            0\n",
       "4  Africa  there recent resurg inter-st cooper  secur eco...            0"
      ]
     },
     "execution_count": 2,
     "metadata": {},
     "output_type": "execute_result"
    }
   ],
   "source": [
    "from io import StringIO\n",
    "col = ['Region', 'Description']\n",
    "df = df[col]\n",
    "df = df[pd.notnull(df['Description'])]\n",
    "df.columns = ['Region', 'Description']\n",
    "df['category_id'] = df['Region'].factorize()[0]\n",
    "category_id_df = df[['Region', 'category_id']].drop_duplicates().sort_values('category_id')\n",
    "category_to_id = dict(category_id_df.values)\n",
    "id_to_category = dict(category_id_df[['category_id', 'Region']].values)\n",
    "df.head()"
   ]
  },
  {
   "cell_type": "code",
   "execution_count": 3,
   "id": "d16ad848",
   "metadata": {},
   "outputs": [
    {
     "data": {
      "image/png": "[encoded data removed]",
      "text/plain": [
       "<Figure size 800x600 with 1 Axes>"
      ]
     },
     "metadata": {},
     "output_type": "display_data"
    }
   ],
   "source": [
    "import matplotlib.pyplot as plt\n",
    "fig = plt.figure(figsize=(8,6))\n",
    "df.groupby('Region').Description.count().plot.bar(ylim=0)\n",
    "plt.show()"
   ]
  },
  {
   "cell_type": "code",
   "execution_count": 4,
   "id": "2716c1ab",
   "metadata": {},
   "outputs": [
    {
     "data": {
      "text/plain": [
       "(103, 402)"
      ]
     },
     "execution_count": 4,
     "metadata": {},
     "output_type": "execute_result"
    }
   ],
   "source": [
    "from sklearn.feature_extraction.text import TfidfVectorizer\n",
    "tfidf = TfidfVectorizer(sublinear_tf=True, min_df=5, norm='l2', encoding='latin-1', ngram_range=(1, 2), stop_words='english')\n",
    "features = tfidf.fit_transform(df.Description).toarray()\n",
    "labels = df.category_id\n",
    "features.shape"
   ]
  },
  {
   "cell_type": "code",
   "execution_count": 5,
   "id": "668c61c4",
   "metadata": {},
   "outputs": [
    {
     "name": "stdout",
     "output_type": "stream",
     "text": [
      "# 'Africa':\n",
      "  . Most correlated unigrams:\n",
      ". environment\n",
      ". violenc\n",
      ". coloni\n",
      ". trade\n",
      ". moment\n",
      "  . Most correlated bigrams:\n",
      ". 20th centuri\n",
      ". climat chang\n",
      ". world war\n",
      ". unit state\n",
      ". case studi\n",
      "# 'Asia':\n",
      "  . Most correlated unigrams:\n",
      ". speaker\n",
      ". home\n",
      ". skill\n",
      ". interact\n",
      ". life\n",
      "  . Most correlated bigrams:\n",
      ". econom develop\n",
      ". intern polit\n",
      ". 20th centuri\n",
      ". unit state\n",
      ". polit economi\n",
      "# 'Australia NZ Pacific':\n",
      "  . Most correlated unigrams:\n",
      ". close\n",
      ". aftermath\n",
      ". deep\n",
      ". affair\n",
      ". strateg\n",
      "  . Most correlated bigrams:\n",
      ". caus consequ\n",
      ". region intern\n",
      ". world war\n",
      ". climat chang\n",
      ". role world\n",
      "# 'Eastern Europe':\n",
      "  . Most correlated unigrams:\n",
      ". subject\n",
      ". know\n",
      ". oper\n",
      ". labor\n",
      ". mass\n",
      "  . Most correlated bigrams:\n",
      ". case studi\n",
      ". human right\n",
      ". world war\n",
      ". polit econom\n",
      ". climat chang\n",
      "# 'Mena':\n",
      "  . Most correlated unigrams:\n",
      ". futur\n",
      ". process\n",
      ". conflict\n",
      ". diplomat\n",
      ". muslim\n",
      "  . Most correlated bigrams:\n",
      ". econom develop\n",
      ". role world\n",
      ". unit state\n",
      ". world war\n",
      ". intern polit\n",
      "# 'Slatam':\n",
      "  . Most correlated unigrams:\n",
      ". construct\n",
      ". framework\n",
      ". law\n",
      ". industri\n",
      ". indigen\n",
      "  . Most correlated bigrams:\n",
      ". 21st centuri\n",
      ". unit state\n",
      ". human right\n",
      ". polit econom\n",
      ". econom develop\n",
      "# 'Western Europe':\n",
      "  . Most correlated unigrams:\n",
      ". literatur\n",
      ". crisi\n",
      ". literari\n",
      ". art\n",
      ". french\n",
      "  . Most correlated bigrams:\n",
      ". polit econom\n",
      ". case studi\n",
      ". unit state\n",
      ". 20th centuri\n",
      ". world war\n"
     ]
    }
   ],
   "source": [
    "from sklearn.feature_selection import chi2\n",
    "import numpy as np\n",
    "N = 5\n",
    "for Region, category_id in sorted(category_to_id.items()):\n",
    "  features_chi2 = chi2(features, labels == category_id)\n",
    "  indices = np.argsort(features_chi2[0])\n",
    "  feature_names = np.array(tfidf.get_feature_names_out())[indices]\n",
    "  unigrams = [v for v in feature_names if len(v.split(' ')) == 1]\n",
    "  bigrams = [v for v in feature_names if len(v.split(' ')) == 2]\n",
    "  print(\"# '{}':\".format(Region))\n",
    "  print(\"  . Most correlated unigrams:\\n. {}\".format('\\n. '.join(unigrams[-N:])))\n",
    "  print(\"  . Most correlated bigrams:\\n. {}\".format('\\n. '.join(bigrams[-N:])))"
   ]
  },
  {
   "cell_type": "code",
   "execution_count": 6,
   "id": "73d918c9",
   "metadata": {},
   "outputs": [],
   "source": [
    "from sklearn.model_selection import train_test_split\n",
    "from sklearn.feature_extraction.text import CountVectorizer\n",
    "from sklearn.feature_extraction.text import TfidfTransformer\n",
    "from sklearn.naive_bayes import MultinomialNB\n",
    "X_train, X_test, y_train, y_test = train_test_split(df['Description'], df['Region'], random_state = 0)\n",
    "count_vect = CountVectorizer()\n",
    "X_train_counts = count_vect.fit_transform(X_train)\n",
    "tfidf_transformer = TfidfTransformer()\n",
    "X_train_tfidf = tfidf_transformer.fit_transform(X_train_counts)\n",
    "clf = MultinomialNB().fit(X_train_tfidf, y_train)"
   ]
  },
  {
   "cell_type": "code",
   "execution_count": 7,
   "id": "f90e6b43",
   "metadata": {},
   "outputs": [
    {
     "data": {
      "image/png": "[encoded data removed]",
      "text/plain": [
       "<Figure size 640x480 with 1 Axes>"
      ]
     },
     "metadata": {},
     "output_type": "display_data"
    }
   ],
   "source": [
    "from sklearn.linear_model import LogisticRegression\n",
    "from sklearn.ensemble import RandomForestClassifier\n",
    "from sklearn.svm import LinearSVC\n",
    "from sklearn.model_selection import cross_val_score\n",
    "models = [\n",
    "    RandomForestClassifier(n_estimators=200, max_depth=3, random_state=0),\n",
    "    LinearSVC(),\n",
    "    MultinomialNB(),\n",
    "    LogisticRegression(random_state=0),\n",
    "]\n",
    "CV = 5\n",
    "cv_df = pd.DataFrame(index=range(CV * len(models)))\n",
    "entries = []\n",
    "for model in models:\n",
    "  model_name = model.__class__.__name__\n",
    "  accuracies = cross_val_score(model, features, labels, scoring='accuracy', cv=CV)\n",
    "  for fold_idx, accuracy in enumerate(accuracies):\n",
    "    entries.append((model_name, fold_idx, accuracy))\n",
    "cv_df = pd.DataFrame(entries, columns=['model_name', 'fold_idx', 'accuracy'])\n",
    "import seaborn as sns\n",
    "sns.boxplot(x='model_name', y='accuracy', data=cv_df)\n",
    "sns.stripplot(x='model_name', y='accuracy', data=cv_df, \n",
    "              size=8, jitter=True, edgecolor=\"gray\", linewidth=2)\n",
    "plt.show()"
   ]
  },
  {
   "cell_type": "code",
   "execution_count": 8,
   "id": "d0d97e8f",
   "metadata": {},
   "outputs": [
    {
     "data": {
      "text/plain": [
       "model_name\n",
       "LinearSVC                 0.352381\n",
       "LogisticRegression        0.320952\n",
       "MultinomialNB             0.311905\n",
       "RandomForestClassifier    0.291429\n",
       "Name: accuracy, dtype: float64"
      ]
     },
     "execution_count": 8,
     "metadata": {},
     "output_type": "execute_result"
    }
   ],
   "source": [
    "cv_df.groupby('model_name').accuracy.mean()"
   ]
  },
  {
   "cell_type": "code",
   "execution_count": 9,
   "id": "cba86c3e",
   "metadata": {},
   "outputs": [
    {
     "data": {
      "image/png": "[encoded data removed]",
      "text/plain": [
       "<Figure size 1000x1000 with 2 Axes>"
      ]
     },
     "metadata": {},
     "output_type": "display_data"
    }
   ],
   "source": [
    "model = LinearSVC()\n",
    "X_train, X_test, y_train, y_test, indices_train, indices_test = train_test_split(features, labels, df.index, test_size=0.33, random_state=0)\n",
    "model.fit(X_train, y_train)\n",
    "y_pred = model.predict(X_test)\n",
    "from sklearn.metrics import confusion_matrix\n",
    "conf_mat = confusion_matrix(y_test, y_pred)\n",
    "fig, ax = plt.subplots(figsize=(10,10))\n",
    "sns.heatmap(conf_mat, annot=True, fmt='d',\n",
    "            xticklabels=category_id_df.Region.values, yticklabels=category_id_df.Region.values)\n",
    "plt.ylabel('Actual')\n",
    "plt.xlabel('Predicted')\n",
    "plt.show()"
   ]
  },
  {
   "cell_type": "code",
   "execution_count": 10,
   "id": "72a1b00d",
   "metadata": {},
   "outputs": [
    {
     "name": "stdout",
     "output_type": "stream",
     "text": [
      "# 'Africa':\n",
      "  . Top unigrams:\n",
      "       . trade\n",
      "       . coloni\n",
      "       . impact\n",
      "       . moment\n",
      "       . sector\n",
      "  . Top bigrams:\n",
      "       . case studi\n",
      "       . econom develop\n",
      "       . polit econom\n",
      "       . particular displac\n",
      "       . intern regim\n",
      "# 'Asia':\n",
      "  . Top unigrams:\n",
      "       . unit\n",
      "       . interact\n",
      "       . life\n",
      "       . order\n",
      "       . home\n",
      "  . Top bigrams:\n",
      "       . unit state\n",
      "       . polit economi\n",
      "       . world war\n",
      "       . role world\n",
      "       . polit econom\n",
      "# 'Australia NZ Pacific':\n",
      "  . Top unigrams:\n",
      "       . strateg\n",
      "       . affair\n",
      "       . relationship\n",
      "       . deep\n",
      "       . close\n",
      "  . Top bigrams:\n",
      "       . world war\n",
      "       . role world\n",
      "       . climat chang\n",
      "       . caus consequ\n",
      "       . region intern\n",
      "# 'Eastern Europe':\n",
      "  . Top unigrams:\n",
      "       . global\n",
      "       . subject\n",
      "       . seminar\n",
      "       . labor\n",
      "       . view\n",
      "  . Top bigrams:\n",
      "       . climat chang\n",
      "       . polit econom\n",
      "       . central europ\n",
      "       . case studi\n",
      "       . intern polit\n",
      "# 'Mena':\n",
      "  . Top unigrams:\n",
      "       . conflict\n",
      "       . muslim\n",
      "       . process\n",
      "       . diplomat\n",
      "       . futur\n",
      "  . Top bigrams:\n",
      "       . intern polit\n",
      "       . region intern\n",
      "       . case studi\n",
      "       . human right\n",
      "       . displac conflict\n",
      "# 'Slatam':\n",
      "  . Top unigrams:\n",
      "       . indigen\n",
      "       . movement\n",
      "       . contemporari\n",
      "       . techniqu\n",
      "       . theori\n",
      "  . Top bigrams:\n",
      "       . polit econom\n",
      "       . econom develop\n",
      "       . human right\n",
      "       . unit state\n",
      "       . right violat\n",
      "# 'Western Europe':\n",
      "  . Top unigrams:\n",
      "       . french\n",
      "       . art\n",
      "       . war\n",
      "       . crisi\n",
      "       . variou\n",
      "  . Top bigrams:\n",
      "       . world war\n",
      "       . 20th centuri\n",
      "       . role world\n",
      "       . econom develop\n",
      "       . right violat\n"
     ]
    }
   ],
   "source": [
    "model.fit(features, labels)\n",
    "N = 5\n",
    "for Region, category_id in sorted(category_to_id.items()):\n",
    "  indices = np.argsort(model.coef_[category_id])\n",
    "  feature_names = np.array(tfidf.get_feature_names_out())[indices]\n",
    "  unigrams = [v for v in reversed(feature_names) if len(v.split(' ')) == 1][:N]\n",
    "  bigrams = [v for v in reversed(feature_names) if len(v.split(' ')) == 2][:N]\n",
    "  print(\"# '{}':\".format(Region))\n",
    "  print(\"  . Top unigrams:\\n       . {}\".format('\\n       . '.join(unigrams)))\n",
    "  print(\"  . Top bigrams:\\n       . {}\".format('\\n       . '.join(bigrams)))"
   ]
  },
  {
   "cell_type": "code",
   "execution_count": 11,
   "id": "19ebb48d",
   "metadata": {},
   "outputs": [
    {
     "name": "stdout",
     "output_type": "stream",
     "text": [
      "                      precision    recall  f1-score   support\n",
      "\n",
      "              Africa       0.00      0.00      0.00         5\n",
      "                Mena       0.31      0.71      0.43         7\n",
      "              Slatam       0.25      0.25      0.25         4\n",
      "                Asia       0.00      0.00      0.00         5\n",
      "      Eastern Europe       0.00      0.00      0.00         6\n",
      "Australia NZ Pacific       0.00      0.00      0.00         1\n",
      "      Western Europe       0.31      0.67      0.42         6\n",
      "\n",
      "            accuracy                           0.29        34\n",
      "           macro avg       0.12      0.23      0.16        34\n",
      "        weighted avg       0.15      0.29      0.19        34\n",
      "\n"
     ]
    },
    {
     "name": "stderr",
     "output_type": "stream",
     "text": [
      "/Library/Frameworks/Python.framework/Versions/3.10/lib/python3.10/site-packages/sklearn/metrics/_classification.py:1334: UndefinedMetricWarning: Precision and F-score are ill-defined and being set to 0.0 in labels with no predicted samples. Use `zero_division` parameter to control this behavior.\n",
      "  _warn_prf(average, modifier, msg_start, len(result))\n",
      "/Library/Frameworks/Python.framework/Versions/3.10/lib/python3.10/site-packages/sklearn/metrics/_classification.py:1334: UndefinedMetricWarning: Precision and F-score are ill-defined and being set to 0.0 in labels with no predicted samples. Use `zero_division` parameter to control this behavior.\n",
      "  _warn_prf(average, modifier, msg_start, len(result))\n",
      "/Library/Frameworks/Python.framework/Versions/3.10/lib/python3.10/site-packages/sklearn/metrics/_classification.py:1334: UndefinedMetricWarning: Precision and F-score are ill-defined and being set to 0.0 in labels with no predicted samples. Use `zero_division` parameter to control this behavior.\n",
      "  _warn_prf(average, modifier, msg_start, len(result))\n"
     ]
    }
   ],
   "source": [
    "from sklearn import metrics\n",
    "print(metrics.classification_report(y_test, y_pred, target_names=df['Region'].unique()))"
   ]
  },
  {
   "cell_type": "code",
   "execution_count": null,
   "id": "c7e0c06c",
   "metadata": {},
   "outputs": [],
   "source": []
  }
 ],
 "metadata": {
  "kernelspec": {
   "display_name": "Python 3 (ipykernel)",
   "language": "python",
   "name": "python3"
  },
  "language_info": {
   "codemirror_mode": {
    "name": "ipython",
    "version": 3
   },
   "file_extension": ".py",
   "mimetype": "text/x-python",
   "name": "python",
   "nbconvert_exporter": "python",
   "pygments_lexer": "ipython3",
   "version": "3.10.7"
  }
 },
 "nbformat": 4,
 "nbformat_minor": 5
}
