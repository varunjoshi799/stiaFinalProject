{
 "cells": [
  {
   "cell_type": "code",
   "execution_count": 2,
   "id": "74243b8b",
   "metadata": {},
   "outputs": [
    {
     "data": {
      "text/html": [
       "<div>\n",
       "<style scoped>\n",
       "    .dataframe tbody tr th:only-of-type {\n",
       "        vertical-align: middle;\n",
       "    }\n",
       "\n",
       "    .dataframe tbody tr th {\n",
       "        vertical-align: top;\n",
       "    }\n",
       "\n",
       "    .dataframe thead th {\n",
       "        text-align: right;\n",
       "    }\n",
       "</style>\n",
       "<table border=\"1\" class=\"dataframe\">\n",
       "  <thead>\n",
       "    <tr style=\"text-align: right;\">\n",
       "      <th></th>\n",
       "      <th>Region</th>\n",
       "      <th>Title</th>\n",
       "      <th>Description</th>\n",
       "    </tr>\n",
       "  </thead>\n",
       "  <tbody>\n",
       "    <tr>\n",
       "      <th>0</th>\n",
       "      <td>AFRICA</td>\n",
       "      <td>Politics of Africa: Fiction &amp; Film</td>\n",
       "      <td>In this course, we will take a look at the pol...</td>\n",
       "    </tr>\n",
       "    <tr>\n",
       "      <th>1</th>\n",
       "      <td>EUROPE</td>\n",
       "      <td>The 21st Century History Wars</td>\n",
       "      <td>On either side of the Atlantic, we are witness...</td>\n",
       "    </tr>\n",
       "    <tr>\n",
       "      <th>2</th>\n",
       "      <td>ASIA</td>\n",
       "      <td>Asia's Nationalism</td>\n",
       "      <td>Nationalism has become a widely used concept i...</td>\n",
       "    </tr>\n",
       "    <tr>\n",
       "      <th>3</th>\n",
       "      <td>SLATAM</td>\n",
       "      <td>Latin Amern Govt and Politics</td>\n",
       "      <td>This course offers an introduction to the cont...</td>\n",
       "    </tr>\n",
       "    <tr>\n",
       "      <th>4</th>\n",
       "      <td>MENA</td>\n",
       "      <td>Intro to Study of Arab World Studies</td>\n",
       "      <td>This course provides a critical introduction t...</td>\n",
       "    </tr>\n",
       "  </tbody>\n",
       "</table>\n",
       "</div>"
      ],
      "text/plain": [
       "   Region                                 Title  \\\n",
       "0  AFRICA    Politics of Africa: Fiction & Film   \n",
       "1  EUROPE         The 21st Century History Wars   \n",
       "2    ASIA                    Asia's Nationalism   \n",
       "3  SLATAM         Latin Amern Govt and Politics   \n",
       "4    MENA  Intro to Study of Arab World Studies   \n",
       "\n",
       "                                         Description  \n",
       "0  In this course, we will take a look at the pol...  \n",
       "1  On either side of the Atlantic, we are witness...  \n",
       "2  Nationalism has become a widely used concept i...  \n",
       "3  This course offers an introduction to the cont...  \n",
       "4  This course provides a critical introduction t...  "
      ]
     },
     "execution_count": 2,
     "metadata": {},
     "output_type": "execute_result"
    }
   ],
   "source": [
    "import pandas as pd\n",
    "df = pd.read_csv('/Users/varunjoshi/Documents/Python/STIA_458/stiaFinalProject/test_set.csv')\n",
    "df.head()"
   ]
  },
  {
   "cell_type": "code",
   "execution_count": 3,
   "id": "fd313824",
   "metadata": {},
   "outputs": [
    {
     "data": {
      "text/html": [
       "<div>\n",
       "<style scoped>\n",
       "    .dataframe tbody tr th:only-of-type {\n",
       "        vertical-align: middle;\n",
       "    }\n",
       "\n",
       "    .dataframe tbody tr th {\n",
       "        vertical-align: top;\n",
       "    }\n",
       "\n",
       "    .dataframe thead th {\n",
       "        text-align: right;\n",
       "    }\n",
       "</style>\n",
       "<table border=\"1\" class=\"dataframe\">\n",
       "  <thead>\n",
       "    <tr style=\"text-align: right;\">\n",
       "      <th></th>\n",
       "      <th>Region</th>\n",
       "      <th>Description</th>\n",
       "      <th>category_id</th>\n",
       "    </tr>\n",
       "  </thead>\n",
       "  <tbody>\n",
       "    <tr>\n",
       "      <th>0</th>\n",
       "      <td>AFRICA</td>\n",
       "      <td>In this course, we will take a look at the pol...</td>\n",
       "      <td>0</td>\n",
       "    </tr>\n",
       "    <tr>\n",
       "      <th>1</th>\n",
       "      <td>EUROPE</td>\n",
       "      <td>On either side of the Atlantic, we are witness...</td>\n",
       "      <td>1</td>\n",
       "    </tr>\n",
       "    <tr>\n",
       "      <th>2</th>\n",
       "      <td>ASIA</td>\n",
       "      <td>Nationalism has become a widely used concept i...</td>\n",
       "      <td>2</td>\n",
       "    </tr>\n",
       "    <tr>\n",
       "      <th>3</th>\n",
       "      <td>SLATAM</td>\n",
       "      <td>This course offers an introduction to the cont...</td>\n",
       "      <td>3</td>\n",
       "    </tr>\n",
       "    <tr>\n",
       "      <th>4</th>\n",
       "      <td>MENA</td>\n",
       "      <td>This course provides a critical introduction t...</td>\n",
       "      <td>4</td>\n",
       "    </tr>\n",
       "  </tbody>\n",
       "</table>\n",
       "</div>"
      ],
      "text/plain": [
       "   Region                                        Description  category_id\n",
       "0  AFRICA  In this course, we will take a look at the pol...            0\n",
       "1  EUROPE  On either side of the Atlantic, we are witness...            1\n",
       "2    ASIA  Nationalism has become a widely used concept i...            2\n",
       "3  SLATAM  This course offers an introduction to the cont...            3\n",
       "4    MENA  This course provides a critical introduction t...            4"
      ]
     },
     "execution_count": 3,
     "metadata": {},
     "output_type": "execute_result"
    }
   ],
   "source": [
    "from io import StringIO\n",
    "col = ['Region', 'Description']\n",
    "df = df[col]\n",
    "df = df[pd.notnull(df['Description'])]\n",
    "df.columns = ['Region', 'Description']\n",
    "df['category_id'] = df['Region'].factorize()[0]\n",
    "category_id_df = df[['Region', 'category_id']].drop_duplicates().sort_values('category_id')\n",
    "category_to_id = dict(category_id_df.values)\n",
    "id_to_category = dict(category_id_df[['category_id', 'Region']].values)\n",
    "df.head()"
   ]
  },
  {
   "cell_type": "code",
   "execution_count": 4,
   "id": "8ab6e372",
   "metadata": {},
   "outputs": [
    {
     "data": {
      "image/png": "[encoded data removed]",
      "text/plain": [
       "<Figure size 800x600 with 1 Axes>"
      ]
     },
     "metadata": {},
     "output_type": "display_data"
    }
   ],
   "source": [
    "import matplotlib.pyplot as plt\n",
    "fig = plt.figure(figsize=(8,6))\n",
    "df.groupby('Region').Description.count().plot.bar(ylim=0)\n",
    "plt.show()"
   ]
  },
  {
   "cell_type": "code",
   "execution_count": 5,
   "id": "7ce63041",
   "metadata": {},
   "outputs": [
    {
     "data": {
      "text/plain": [
       "(60, 245)"
      ]
     },
     "execution_count": 5,
     "metadata": {},
     "output_type": "execute_result"
    }
   ],
   "source": [
    "from sklearn.feature_extraction.text import TfidfVectorizer\n",
    "tfidf = TfidfVectorizer(sublinear_tf=True, min_df=5, norm='l2', encoding='latin-1', ngram_range=(1, 2), stop_words='english')\n",
    "features = tfidf.fit_transform(df.Description).toarray()\n",
    "labels = df.category_id\n",
    "features.shape"
   ]
  },
  {
   "cell_type": "code",
   "execution_count": 7,
   "id": "0087719f",
   "metadata": {},
   "outputs": [
    {
     "name": "stdout",
     "output_type": "stream",
     "text": [
      "# 'AFRICA':\n",
      "  . Most correlated unigrams:\n",
      ". african\n",
      ". africa\n",
      "  . Most correlated bigrams:\n",
      ". united states\n",
      ". middle east\n",
      "# 'ASIA':\n",
      "  . Most correlated unigrams:\n",
      ". home\n",
      ". asia\n",
      "  . Most correlated bigrams:\n",
      ". course examine\n",
      ". united states\n",
      "# 'EUROPE':\n",
      "  . Most correlated unigrams:\n",
      ". european\n",
      ". ii\n",
      "  . Most correlated bigrams:\n",
      ". world war\n",
      ". war ii\n",
      "# 'MENA':\n",
      "  . Most correlated unigrams:\n",
      ". middle\n",
      ". arab\n",
      "  . Most correlated bigrams:\n",
      ". east north\n",
      ". middle east\n",
      "# 'OCEANIA':\n",
      "  . Most correlated unigrams:\n",
      ". powers\n",
      ". interests\n",
      "  . Most correlated bigrams:\n",
      ". world war\n",
      ". climate change\n",
      "# 'REE':\n",
      "  . Most correlated unigrams:\n",
      ". climate\n",
      ". russia\n",
      "  . Most correlated bigrams:\n",
      ". case studies\n",
      ". climate change\n",
      "# 'SLATAM':\n",
      "  . Most correlated unigrams:\n",
      ". america\n",
      ". latin\n",
      "  . Most correlated bigrams:\n",
      ". latin america\n",
      ". latin american\n"
     ]
    }
   ],
   "source": [
    "from sklearn.feature_selection import chi2\n",
    "import numpy as np\n",
    "N = 2\n",
    "for Region, category_id in sorted(category_to_id.items()):\n",
    "  features_chi2 = chi2(features, labels == category_id)\n",
    "  indices = np.argsort(features_chi2[0])\n",
    "  feature_names = np.array(tfidf.get_feature_names_out())[indices]\n",
    "  unigrams = [v for v in feature_names if len(v.split(' ')) == 1]\n",
    "  bigrams = [v for v in feature_names if len(v.split(' ')) == 2]\n",
    "  print(\"# '{}':\".format(Region))\n",
    "  print(\"  . Most correlated unigrams:\\n. {}\".format('\\n. '.join(unigrams[-N:])))\n",
    "  print(\"  . Most correlated bigrams:\\n. {}\".format('\\n. '.join(bigrams[-N:])))"
   ]
  },
  {
   "cell_type": "code",
   "execution_count": 8,
   "id": "451b76bc",
   "metadata": {},
   "outputs": [],
   "source": [
    "from sklearn.model_selection import train_test_split\n",
    "from sklearn.feature_extraction.text import CountVectorizer\n",
    "from sklearn.feature_extraction.text import TfidfTransformer\n",
    "from sklearn.naive_bayes import MultinomialNB\n",
    "X_train, X_test, y_train, y_test = train_test_split(df['Description'], df['Region'], random_state = 0)\n",
    "count_vect = CountVectorizer()\n",
    "X_train_counts = count_vect.fit_transform(X_train)\n",
    "tfidf_transformer = TfidfTransformer()\n",
    "X_train_tfidf = tfidf_transformer.fit_transform(X_train_counts)\n",
    "clf = MultinomialNB().fit(X_train_tfidf, y_train)"
   ]
  },
  {
   "cell_type": "code",
   "execution_count": 9,
   "id": "e6eba0a2",
   "metadata": {},
   "outputs": [
    {
     "name": "stdout",
     "output_type": "stream",
     "text": [
      "['MENA']\n"
     ]
    }
   ],
   "source": [
    "print(clf.predict(count_vect.transform([\"In this course, we will take a look at the politics of Africa through the lens of fiction and film. Our discussions will focus on the transformative historical and political moments that have shaped the African continent over the course of the last two centuries. We will begin by reading Joseph Conrad’s Heart of Darkness, a fictional narrative written in the heydays of European colonialism, as a means to understand the profound and inescapable effects of colonization. We will also explore fictional accounts of Apartheid in South Africa, the Mau Mau Rebellion in Kenya, and the Biafran War in Nigeria, among others, in order to understand the close and inextricable links between literature and politics in Africa. The enormous impact of iconic political figures such as Nelson Mandela and Seretse Khama on fiction and film will also be considered.\"])))"
   ]
  },
  {
   "cell_type": "code",
   "execution_count": 10,
   "id": "888f72dc",
   "metadata": {},
   "outputs": [
    {
     "ename": "ValueError",
     "evalue": "Iterable over raw text documents expected, string object received.",
     "output_type": "error",
     "traceback": [
      "\u001b[0;31m---------------------------------------------------------------------------\u001b[0m",
      "\u001b[0;31mValueError\u001b[0m                                Traceback (most recent call last)",
      "Cell \u001b[0;32mIn[10], line 1\u001b[0m\n\u001b[0;32m----> 1\u001b[0m \u001b[38;5;28mprint\u001b[39m(clf\u001b[38;5;241m.\u001b[39mpredict(\u001b[43mcount_vect\u001b[49m\u001b[38;5;241;43m.\u001b[39;49m\u001b[43mtransform\u001b[49m\u001b[43m(\u001b[49m\u001b[38;5;124;43m\"\u001b[39;49m\u001b[38;5;124;43mThis is a class on counter terrorism\u001b[39;49m\u001b[38;5;124;43m\"\u001b[39;49m\u001b[43m)\u001b[49m))\n",
      "File \u001b[0;32m/Library/Frameworks/Python.framework/Versions/3.10/lib/python3.10/site-packages/sklearn/feature_extraction/text.py:1381\u001b[0m, in \u001b[0;36mCountVectorizer.transform\u001b[0;34m(self, raw_documents)\u001b[0m\n\u001b[1;32m   1365\u001b[0m \u001b[38;5;124;03m\"\"\"Transform documents to document-term matrix.\u001b[39;00m\n\u001b[1;32m   1366\u001b[0m \n\u001b[1;32m   1367\u001b[0m \u001b[38;5;124;03mExtract token counts out of raw text documents using the vocabulary\u001b[39;00m\n\u001b[0;32m   (...)\u001b[0m\n\u001b[1;32m   1378\u001b[0m \u001b[38;5;124;03m    Document-term matrix.\u001b[39;00m\n\u001b[1;32m   1379\u001b[0m \u001b[38;5;124;03m\"\"\"\u001b[39;00m\n\u001b[1;32m   1380\u001b[0m \u001b[38;5;28;01mif\u001b[39;00m \u001b[38;5;28misinstance\u001b[39m(raw_documents, \u001b[38;5;28mstr\u001b[39m):\n\u001b[0;32m-> 1381\u001b[0m     \u001b[38;5;28;01mraise\u001b[39;00m \u001b[38;5;167;01mValueError\u001b[39;00m(\n\u001b[1;32m   1382\u001b[0m         \u001b[38;5;124m\"\u001b[39m\u001b[38;5;124mIterable over raw text documents expected, string object received.\u001b[39m\u001b[38;5;124m\"\u001b[39m\n\u001b[1;32m   1383\u001b[0m     )\n\u001b[1;32m   1384\u001b[0m \u001b[38;5;28mself\u001b[39m\u001b[38;5;241m.\u001b[39m_check_vocabulary()\n\u001b[1;32m   1386\u001b[0m \u001b[38;5;66;03m# use the same matrix-building strategy as fit_transform\u001b[39;00m\n",
      "\u001b[0;31mValueError\u001b[0m: Iterable over raw text documents expected, string object received."
     ]
    }
   ],
   "source": [
    "print(clf.predict(count_vect.transform(\"This is a class on counter terrorism\")))"
   ]
  },
  {
   "cell_type": "code",
   "execution_count": 11,
   "id": "75cd7c9b",
   "metadata": {},
   "outputs": [
    {
     "name": "stdout",
     "output_type": "stream",
     "text": [
      "['MENA']\n"
     ]
    }
   ],
   "source": [
    "print(clf.predict(count_vect.transform([\"In this course\"])))"
   ]
  },
  {
   "cell_type": "code",
   "execution_count": 12,
   "id": "1a9415d8",
   "metadata": {},
   "outputs": [
    {
     "name": "stdout",
     "output_type": "stream",
     "text": [
      "['MENA']\n"
     ]
    }
   ],
   "source": [
    "print(clf.predict(count_vect.transform([\"Africa film studies\"])))"
   ]
  },
  {
   "cell_type": "code",
   "execution_count": 13,
   "id": "2a72818b",
   "metadata": {},
   "outputs": [
    {
     "name": "stdout",
     "output_type": "stream",
     "text": [
      "['MENA']\n"
     ]
    }
   ],
   "source": [
    "print(clf.predict(count_vect.transform([\"terrorism\"])))"
   ]
  },
  {
   "cell_type": "code",
   "execution_count": 14,
   "id": "86a10a4a",
   "metadata": {},
   "outputs": [
    {
     "name": "stdout",
     "output_type": "stream",
     "text": [
      "['MENA']\n"
     ]
    }
   ],
   "source": [
    "print(clf.predict(count_vect.transform([\"economy\"])))"
   ]
  },
  {
   "cell_type": "code",
   "execution_count": 15,
   "id": "5af6505b",
   "metadata": {},
   "outputs": [
    {
     "name": "stdout",
     "output_type": "stream",
     "text": [
      "['MENA']\n"
     ]
    }
   ],
   "source": [
    "print(clf.predict(count_vect.transform([\"America\"])))"
   ]
  },
  {
   "cell_type": "code",
   "execution_count": 16,
   "id": "98967a16",
   "metadata": {},
   "outputs": [
    {
     "name": "stdout",
     "output_type": "stream",
     "text": [
      "['MENA']\n"
     ]
    }
   ],
   "source": [
    "print(clf.predict(count_vect.transform([\"Putin\"])))"
   ]
  },
  {
   "cell_type": "code",
   "execution_count": 17,
   "id": "bc4dc5ec",
   "metadata": {},
   "outputs": [
    {
     "name": "stdout",
     "output_type": "stream",
     "text": [
      "['SLATAM']\n"
     ]
    }
   ],
   "source": [
    "print(clf.predict(count_vect.transform([\"Latin American nations\"])))"
   ]
  },
  {
   "cell_type": "code",
   "execution_count": 18,
   "id": "7f0838cb",
   "metadata": {},
   "outputs": [
    {
     "name": "stdout",
     "output_type": "stream",
     "text": [
      "['MENA']\n"
     ]
    }
   ],
   "source": [
    "print(clf.predict(count_vect.transform([\"Holocaust\"])))"
   ]
  },
  {
   "cell_type": "code",
   "execution_count": 19,
   "id": "89dca7cd",
   "metadata": {},
   "outputs": [
    {
     "name": "stdout",
     "output_type": "stream",
     "text": [
      "['MENA']\n"
     ]
    }
   ],
   "source": [
    "print(clf.predict(count_vect.transform([\"Australia\"])))"
   ]
  },
  {
   "cell_type": "code",
   "execution_count": 20,
   "id": "e9042d86",
   "metadata": {},
   "outputs": [
    {
     "name": "stdout",
     "output_type": "stream",
     "text": [
      "['MENA']\n"
     ]
    }
   ],
   "source": [
    "print(clf.predict(count_vect.transform([\"New Zealand\"])))"
   ]
  },
  {
   "cell_type": "code",
   "execution_count": 21,
   "id": "73a087cc",
   "metadata": {},
   "outputs": [
    {
     "name": "stdout",
     "output_type": "stream",
     "text": [
      "['MENA']\n"
     ]
    }
   ],
   "source": [
    "print(clf.predict(count_vect.transform([\"China\"])))"
   ]
  },
  {
   "cell_type": "code",
   "execution_count": 23,
   "id": "b9451314",
   "metadata": {},
   "outputs": [
    {
     "name": "stdout",
     "output_type": "stream",
     "text": [
      "['MENA']\n"
     ]
    }
   ],
   "source": [
    "print(clf.predict(count_vect.transform([\"Competition for strategic influence in Oceania is becoming\"])))"
   ]
  },
  {
   "cell_type": "code",
   "execution_count": 24,
   "id": "4d624406",
   "metadata": {},
   "outputs": [
    {
     "name": "stdout",
     "output_type": "stream",
     "text": [
      "['MENA']\n"
     ]
    }
   ],
   "source": [
    "print(clf.predict(count_vect.transform([\"climate change in the united states\"])))"
   ]
  },
  {
   "cell_type": "code",
   "execution_count": 25,
   "id": "ebc94cc3",
   "metadata": {},
   "outputs": [
    {
     "name": "stdout",
     "output_type": "stream",
     "text": [
      "['MENA']\n"
     ]
    }
   ],
   "source": [
    "print(clf.predict(count_vect.transform([\"eastern europe\"])))"
   ]
  },
  {
   "cell_type": "code",
   "execution_count": 26,
   "id": "32522b4f",
   "metadata": {},
   "outputs": [
    {
     "name": "stdout",
     "output_type": "stream",
     "text": [
      "['MENA']\n"
     ]
    }
   ],
   "source": [
    "print(clf.predict(count_vect.transform([\"Christianity\"])))"
   ]
  },
  {
   "cell_type": "code",
   "execution_count": 28,
   "id": "fb840f6f",
   "metadata": {},
   "outputs": [
    {
     "ename": "ModuleNotFoundError",
     "evalue": "No module named 'seaborn'",
     "output_type": "error",
     "traceback": [
      "\u001b[0;31m---------------------------------------------------------------------------\u001b[0m",
      "\u001b[0;31mModuleNotFoundError\u001b[0m                       Traceback (most recent call last)",
      "Cell \u001b[0;32mIn[28], line 20\u001b[0m\n\u001b[1;32m     18\u001b[0m     entries\u001b[38;5;241m.\u001b[39mappend((model_name, fold_idx, accuracy))\n\u001b[1;32m     19\u001b[0m cv_df \u001b[38;5;241m=\u001b[39m pd\u001b[38;5;241m.\u001b[39mDataFrame(entries, columns\u001b[38;5;241m=\u001b[39m[\u001b[38;5;124m'\u001b[39m\u001b[38;5;124mmodel_name\u001b[39m\u001b[38;5;124m'\u001b[39m, \u001b[38;5;124m'\u001b[39m\u001b[38;5;124mfold_idx\u001b[39m\u001b[38;5;124m'\u001b[39m, \u001b[38;5;124m'\u001b[39m\u001b[38;5;124maccuracy\u001b[39m\u001b[38;5;124m'\u001b[39m])\n\u001b[0;32m---> 20\u001b[0m \u001b[38;5;28;01mimport\u001b[39;00m \u001b[38;5;21;01mseaborn\u001b[39;00m \u001b[38;5;28;01mas\u001b[39;00m \u001b[38;5;21;01msns\u001b[39;00m\n\u001b[1;32m     21\u001b[0m sns\u001b[38;5;241m.\u001b[39mboxplot(x\u001b[38;5;241m=\u001b[39m\u001b[38;5;124m'\u001b[39m\u001b[38;5;124mmodel_name\u001b[39m\u001b[38;5;124m'\u001b[39m, y\u001b[38;5;241m=\u001b[39m\u001b[38;5;124m'\u001b[39m\u001b[38;5;124maccuracy\u001b[39m\u001b[38;5;124m'\u001b[39m, data\u001b[38;5;241m=\u001b[39mcv_df)\n\u001b[1;32m     22\u001b[0m sns\u001b[38;5;241m.\u001b[39mstripplot(x\u001b[38;5;241m=\u001b[39m\u001b[38;5;124m'\u001b[39m\u001b[38;5;124mmodel_name\u001b[39m\u001b[38;5;124m'\u001b[39m, y\u001b[38;5;241m=\u001b[39m\u001b[38;5;124m'\u001b[39m\u001b[38;5;124maccuracy\u001b[39m\u001b[38;5;124m'\u001b[39m, data\u001b[38;5;241m=\u001b[39mcv_df, \n\u001b[1;32m     23\u001b[0m               size\u001b[38;5;241m=\u001b[39m\u001b[38;5;241m8\u001b[39m, jitter\u001b[38;5;241m=\u001b[39m\u001b[38;5;28;01mTrue\u001b[39;00m, edgecolor\u001b[38;5;241m=\u001b[39m\u001b[38;5;124m\"\u001b[39m\u001b[38;5;124mgray\u001b[39m\u001b[38;5;124m\"\u001b[39m, linewidth\u001b[38;5;241m=\u001b[39m\u001b[38;5;241m2\u001b[39m)\n",
      "\u001b[0;31mModuleNotFoundError\u001b[0m: No module named 'seaborn'"
     ]
    }
   ],
   "source": [
    "from sklearn.linear_model import LogisticRegression\n",
    "from sklearn.ensemble import RandomForestClassifier\n",
    "from sklearn.svm import LinearSVC\n",
    "from sklearn.model_selection import cross_val_score\n",
    "models = [\n",
    "    RandomForestClassifier(n_estimators=200, max_depth=3, random_state=0),\n",
    "    LinearSVC(),\n",
    "    MultinomialNB(),\n",
    "    LogisticRegression(random_state=0),\n",
    "]\n",
    "CV = 3\n",
    "cv_df = pd.DataFrame(index=range(CV * len(models)))\n",
    "entries = []\n",
    "for model in models:\n",
    "  model_name = model.__class__.__name__\n",
    "  accuracies = cross_val_score(model, features, labels, scoring='accuracy', cv=CV)\n",
    "  for fold_idx, accuracy in enumerate(accuracies):\n",
    "    entries.append((model_name, fold_idx, accuracy))\n",
    "cv_df = pd.DataFrame(entries, columns=['model_name', 'fold_idx', 'accuracy'])\n",
    "import seaborn as sns\n",
    "sns.boxplot(x='model_name', y='accuracy', data=cv_df)\n",
    "sns.stripplot(x='model_name', y='accuracy', data=cv_df, \n",
    "              size=8, jitter=True, edgecolor=\"gray\", linewidth=2)\n",
    "plt.show()"
   ]
  },
  {
   "cell_type": "code",
   "execution_count": null,
   "id": "209dccff",
   "metadata": {},
   "outputs": [],
   "source": []
  },
  {
   "cell_type": "code",
   "execution_count": 29,
   "id": "5abc90aa",
   "metadata": {},
   "outputs": [
    {
     "data": {
      "image/png": "[encoded data removed]",
      "text/plain": [
       "<Figure size 640x480 with 1 Axes>"
      ]
     },
     "metadata": {},
     "output_type": "display_data"
    }
   ],
   "source": [
    "from sklearn.linear_model import LogisticRegression\n",
    "from sklearn.ensemble import RandomForestClassifier\n",
    "from sklearn.svm import LinearSVC\n",
    "from sklearn.model_selection import cross_val_score\n",
    "models = [\n",
    "    RandomForestClassifier(n_estimators=200, max_depth=3, random_state=0),\n",
    "    LinearSVC(),\n",
    "    MultinomialNB(),\n",
    "    LogisticRegression(random_state=0),\n",
    "]\n",
    "CV = 3\n",
    "cv_df = pd.DataFrame(index=range(CV * len(models)))\n",
    "entries = []\n",
    "for model in models:\n",
    "  model_name = model.__class__.__name__\n",
    "  accuracies = cross_val_score(model, features, labels, scoring='accuracy', cv=CV)\n",
    "  for fold_idx, accuracy in enumerate(accuracies):\n",
    "    entries.append((model_name, fold_idx, accuracy))\n",
    "cv_df = pd.DataFrame(entries, columns=['model_name', 'fold_idx', 'accuracy'])\n",
    "import seaborn as sns\n",
    "sns.boxplot(x='model_name', y='accuracy', data=cv_df)\n",
    "sns.stripplot(x='model_name', y='accuracy', data=cv_df, \n",
    "              size=8, jitter=True, edgecolor=\"gray\", linewidth=2)\n",
    "plt.show()"
   ]
  },
  {
   "cell_type": "code",
   "execution_count": 30,
   "id": "431391f5",
   "metadata": {},
   "outputs": [
    {
     "data": {
      "text/plain": [
       "model_name\n",
       "LinearSVC                 0.716667\n",
       "LogisticRegression        0.483333\n",
       "MultinomialNB             0.450000\n",
       "RandomForestClassifier    0.633333\n",
       "Name: accuracy, dtype: float64"
      ]
     },
     "execution_count": 30,
     "metadata": {},
     "output_type": "execute_result"
    }
   ],
   "source": [
    "cv_df.groupby('model_name').accuracy.mean()"
   ]
  },
  {
   "cell_type": "code",
   "execution_count": 31,
   "id": "a93a91a4",
   "metadata": {},
   "outputs": [
    {
     "data": {
      "image/png": "[encoded data removed]",
      "text/plain": [
       "<Figure size 1000x1000 with 2 Axes>"
      ]
     },
     "metadata": {},
     "output_type": "display_data"
    }
   ],
   "source": [
    "model = LinearSVC()\n",
    "X_train, X_test, y_train, y_test, indices_train, indices_test = train_test_split(features, labels, df.index, test_size=0.33, random_state=0)\n",
    "model.fit(X_train, y_train)\n",
    "y_pred = model.predict(X_test)\n",
    "from sklearn.metrics import confusion_matrix\n",
    "conf_mat = confusion_matrix(y_test, y_pred)\n",
    "fig, ax = plt.subplots(figsize=(10,10))\n",
    "sns.heatmap(conf_mat, annot=True, fmt='d',\n",
    "            xticklabels=category_id_df.Region.values, yticklabels=category_id_df.Region.values)\n",
    "plt.ylabel('Actual')\n",
    "plt.xlabel('Predicted')\n",
    "plt.show()"
   ]
  },
  {
   "cell_type": "code",
   "execution_count": 35,
   "id": "11b92d61",
   "metadata": {},
   "outputs": [
    {
     "ename": "IndexError",
     "evalue": "index 6 is out of bounds for axis 0 with size 6",
     "output_type": "error",
     "traceback": [
      "\u001b[0;31m---------------------------------------------------------------------------\u001b[0m",
      "\u001b[0;31mIndexError\u001b[0m                                Traceback (most recent call last)",
      "Cell \u001b[0;32mIn[35], line 4\u001b[0m\n\u001b[1;32m      2\u001b[0m \u001b[38;5;28;01mfor\u001b[39;00m predicted \u001b[38;5;129;01min\u001b[39;00m category_id_df\u001b[38;5;241m.\u001b[39mcategory_id:\n\u001b[1;32m      3\u001b[0m   \u001b[38;5;28;01mfor\u001b[39;00m actual \u001b[38;5;129;01min\u001b[39;00m category_id_df\u001b[38;5;241m.\u001b[39mcategory_id:\n\u001b[0;32m----> 4\u001b[0m     \u001b[38;5;28;01mif\u001b[39;00m predicted \u001b[38;5;241m!=\u001b[39m actual \u001b[38;5;129;01mand\u001b[39;00m \u001b[43mconf_mat\u001b[49m\u001b[43m[\u001b[49m\u001b[43mactual\u001b[49m\u001b[43m,\u001b[49m\u001b[43m \u001b[49m\u001b[43mpredicted\u001b[49m\u001b[43m]\u001b[49m \u001b[38;5;241m>\u001b[39m\u001b[38;5;241m=\u001b[39m \u001b[38;5;241m1\u001b[39m:\n\u001b[1;32m      5\u001b[0m       \u001b[38;5;28mprint\u001b[39m(\u001b[38;5;124m\"\u001b[39m\u001b[38;5;124m'\u001b[39m\u001b[38;5;132;01m{}\u001b[39;00m\u001b[38;5;124m'\u001b[39m\u001b[38;5;124m predicted as \u001b[39m\u001b[38;5;124m'\u001b[39m\u001b[38;5;132;01m{}\u001b[39;00m\u001b[38;5;124m'\u001b[39m\u001b[38;5;124m : \u001b[39m\u001b[38;5;132;01m{}\u001b[39;00m\u001b[38;5;124m examples.\u001b[39m\u001b[38;5;124m\"\u001b[39m\u001b[38;5;241m.\u001b[39mformat(id_to_category[actual], id_to_category[predicted], conf_mat[actual, predicted]))\n\u001b[1;32m      6\u001b[0m       display(df\u001b[38;5;241m.\u001b[39mloc[indices_test[(y_test \u001b[38;5;241m==\u001b[39m actual) \u001b[38;5;241m&\u001b[39m (y_pred \u001b[38;5;241m==\u001b[39m predicted)]][[\u001b[38;5;124m'\u001b[39m\u001b[38;5;124mRegion\u001b[39m\u001b[38;5;124m'\u001b[39m, \u001b[38;5;124m'\u001b[39m\u001b[38;5;124mDescription\u001b[39m\u001b[38;5;124m'\u001b[39m]])\n",
      "\u001b[0;31mIndexError\u001b[0m: index 6 is out of bounds for axis 0 with size 6"
     ]
    }
   ],
   "source": [
    "# from IPython.display import display\n",
    "# for predicted in category_id_df.category_id:\n",
    "#   for actual in category_id_df.category_id:\n",
    "#     if predicted != actual and conf_mat[actual, predicted] >= 5:\n",
    "#       print(\"'{}' predicted as '{}' : {} examples.\".format(id_to_category[actual], id_to_category[predicted], conf_mat[actual, predicted]))\n",
    "#       display(df.loc[indices_test[(y_test == actual) & (y_pred == predicted)]][['Region', 'Description']])\n",
    "#       print('')"
   ]
  },
  {
   "cell_type": "code",
   "execution_count": 36,
   "id": "6e659a5a",
   "metadata": {},
   "outputs": [
    {
     "name": "stdout",
     "output_type": "stream",
     "text": [
      "# 'AFRICA':\n",
      "  . Top unigrams:\n",
      "       . africa\n",
      "       . african\n",
      "  . Top bigrams:\n",
      "       . case studies\n",
      "       . course explore\n",
      "# 'ASIA':\n",
      "  . Top unigrams:\n",
      "       . asia\n",
      "       . nation\n",
      "  . Top bigrams:\n",
      "       . united states\n",
      "       . course examine\n",
      "# 'EUROPE':\n",
      "  . Top unigrams:\n",
      "       . ii\n",
      "       . history\n",
      "  . Top bigrams:\n",
      "       . war ii\n",
      "       . world war\n",
      "# 'MENA':\n",
      "  . Top unigrams:\n",
      "       . arab\n",
      "       . middle\n",
      "  . Top bigrams:\n",
      "       . middle east\n",
      "       . east north\n",
      "# 'OCEANIA':\n",
      "  . Top unigrams:\n",
      "       . interests\n",
      "       . powers\n",
      "  . Top bigrams:\n",
      "       . world war\n",
      "       . climate change\n",
      "# 'REE':\n",
      "  . Top unigrams:\n",
      "       . russia\n",
      "       . global\n",
      "  . Top bigrams:\n",
      "       . climate change\n",
      "       . case studies\n",
      "# 'SLATAM':\n",
      "  . Top unigrams:\n",
      "       . latin\n",
      "       . america\n",
      "  . Top bigrams:\n",
      "       . latin american\n",
      "       . latin america\n"
     ]
    },
    {
     "name": "stderr",
     "output_type": "stream",
     "text": [
      "/Library/Frameworks/Python.framework/Versions/3.10/lib/python3.10/site-packages/sklearn/utils/deprecation.py:87: FutureWarning: Function get_feature_names is deprecated; get_feature_names is deprecated in 1.0 and will be removed in 1.2. Please use get_feature_names_out instead.\n",
      "  warnings.warn(msg, category=FutureWarning)\n"
     ]
    }
   ],
   "source": [
    "model.fit(features, labels)\n",
    "N = 2\n",
    "for Region, category_id in sorted(category_to_id.items()):\n",
    "  indices = np.argsort(model.coef_[category_id])\n",
    "  feature_names = np.array(tfidf.get_feature_names())[indices]\n",
    "  unigrams = [v for v in reversed(feature_names) if len(v.split(' ')) == 1][:N]\n",
    "  bigrams = [v for v in reversed(feature_names) if len(v.split(' ')) == 2][:N]\n",
    "  print(\"# '{}':\".format(Region))\n",
    "  print(\"  . Top unigrams:\\n       . {}\".format('\\n       . '.join(unigrams)))\n",
    "  print(\"  . Top bigrams:\\n       . {}\".format('\\n       . '.join(bigrams)))"
   ]
  },
  {
   "cell_type": "code",
   "execution_count": 48,
   "id": "4d49a72d",
   "metadata": {},
   "outputs": [
    {
     "name": "stdout",
     "output_type": "stream",
     "text": [
      "              precision    recall  f1-score   support\n",
      "\n",
      "      AFRICA       1.00      1.00      1.00         3\n",
      "        ASIA       1.00      0.50      0.67         2\n",
      "        MENA       1.00      0.67      0.80         3\n",
      "         REE       0.75      0.75      0.75         4\n",
      "      SLATAM       0.78      1.00      0.88         7\n",
      "      EUROPE       1.00      1.00      1.00         1\n",
      "\n",
      "    accuracy                           0.85        20\n",
      "   macro avg       0.92      0.82      0.85        20\n",
      "weighted avg       0.87      0.85      0.84        20\n",
      "\n"
     ]
    }
   ],
   "source": [
    "from sklearn import metrics\n",
    "print(metrics.classification_report(y_test, y_pred, target_names=['AFRICA', 'ASIA', 'MENA', 'REE', 'SLATAM', 'EUROPE']))"
   ]
  },
  {
   "cell_type": "code",
   "execution_count": null,
   "id": "7c33bf3e",
   "metadata": {},
   "outputs": [],
   "source": []
  }
 ],
 "metadata": {
  "kernelspec": {
   "display_name": "Python 3 (ipykernel)",
   "language": "python",
   "name": "python3"
  },
  "language_info": {
   "codemirror_mode": {
    "name": "ipython",
    "version": 3
   },
   "file_extension": ".py",
   "mimetype": "text/x-python",
   "name": "python",
   "nbconvert_exporter": "python",
   "pygments_lexer": "ipython3",
   "version": "3.10.7"
  }
 },
 "nbformat": 4,
 "nbformat_minor": 5
}
